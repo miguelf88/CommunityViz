{
 "cells": [
  {
   "cell_type": "code",
   "execution_count": 13,
   "metadata": {},
   "outputs": [],
   "source": [
    "import requests\n",
    "import json\n",
    "import timeit\n",
    "import numpy as np\n",
    "from IPython.display import clear_output\n",
    "import zipfile"
   ]
  },
  {
   "cell_type": "code",
   "execution_count": 2,
   "metadata": {},
   "outputs": [],
   "source": [
    "# create timers\n",
    "def get_time(timer):\n",
    "    minutes, seconds = int(np.floor(timer)), round(np.ndarray.item(timer % 1)*60)\n",
    "    return[minutes,  seconds]"
   ]
  },
  {
   "cell_type": "code",
   "execution_count": 14,
   "metadata": {},
   "outputs": [],
   "source": [
    "# Set url\n",
    "url = 'https://viewer.nationalmap.gov/tnmaccess/api/products?datasets=National+Elevation+Dataset+%28NED%29+1%2F9+arc-second&bbox=-81.1139%2C35.3845%2C-78.7408%2C36.6111&q=&dateType=dateCreated&start=&end=&polyCode=&polyType=&offset=&max=&outputFormat=JSON&_csrf=1155e4b6-3d4d-409c-8058-99083bab2c28'\n",
    "\n",
    "# request data\n",
    "response = requests.get(url)"
   ]
  },
  {
   "cell_type": "code",
   "execution_count": 4,
   "metadata": {},
   "outputs": [
    {
     "name": "stdout",
     "output_type": "stream",
     "text": [
      "The API from the National Map returned 66 features\n"
     ]
    }
   ],
   "source": [
    "print('The API from the National Map returned {} features'.format(response.json()['total']))"
   ]
  },
  {
   "cell_type": "code",
   "execution_count": 11,
   "metadata": {},
   "outputs": [],
   "source": [
    "# load data\n",
    "data  = response.json()"
   ]
  },
  {
   "cell_type": "code",
   "execution_count": 6,
   "metadata": {
    "scrolled": true
   },
   "outputs": [],
   "source": [
    "# grab download url\n",
    "download_list = []\n",
    "\n",
    "for item in data['items']:\n",
    "    download_list.append(item['downloadURL'])"
   ]
  },
  {
   "cell_type": "code",
   "execution_count": 8,
   "metadata": {},
   "outputs": [
    {
     "name": "stdout",
     "output_type": "stream",
     "text": [
      "Data successfully downloaded.\n",
      "Total time: 33 minutes 40 seconds\n"
     ]
    }
   ],
   "source": [
    "# start a timer\n",
    "start = timeit.default_timer()\n",
    "\n",
    "# iterate through download_list\n",
    "for url in download_list:\n",
    " \n",
    "    clear_output(wait=True)\n",
    "    print('Requesting {}'.format(url.split(sep='/')[7]))\n",
    "    \n",
    "    r = requests.get(url)\n",
    "    \n",
    "    clear_output(wait=True)\n",
    "    print('Successfully requested {}'.format(url.split(sep='/')[7]))\n",
    "    \n",
    "    with open('data.zip', 'wb') as f:\n",
    "        f.write(r.content)\n",
    "    \n",
    "    clear_output(wait=True)\n",
    "    print('Opened {}'.format(url.split(sep='/')[7]))\n",
    "        \n",
    "    with zipfile.ZipFile('data.zip', 'r') as data_zip:\n",
    "        data_zip.extractall()\n",
    "    \n",
    "    clear_output(wait=True)\n",
    "    print('Extracted {}'.format(url.split(sep='/')[7]))\n",
    "\n",
    "# Clear output from underneath cell\n",
    "clear_output(wait=True)    \n",
    "    \n",
    "# get the current time on timer\n",
    "stop = timeit.default_timer()\n",
    "timer = np.array([(stop-start)/60])\n",
    "min_sec = get_time(timer)\n",
    "minutes, seconds = min_sec[0], min_sec[1]\n",
    "\n",
    "print('Data successfully downloaded.\\nTotal time:', minutes, 'minutes', seconds, 'seconds')"
   ]
  },
  {
   "cell_type": "code",
   "execution_count": null,
   "metadata": {},
   "outputs": [],
   "source": []
  },
  {
   "cell_type": "code",
   "execution_count": null,
   "metadata": {},
   "outputs": [],
   "source": []
  },
  {
   "cell_type": "code",
   "execution_count": null,
   "metadata": {},
   "outputs": [],
   "source": []
  },
  {
   "cell_type": "code",
   "execution_count": null,
   "metadata": {},
   "outputs": [],
   "source": []
  }
 ],
 "metadata": {
  "kernelspec": {
   "display_name": "Python 3",
   "language": "python",
   "name": "python3"
  },
  "language_info": {
   "codemirror_mode": {
    "name": "ipython",
    "version": 3
   },
   "file_extension": ".py",
   "mimetype": "text/x-python",
   "name": "python",
   "nbconvert_exporter": "python",
   "pygments_lexer": "ipython3",
   "version": "3.8.5"
  }
 },
 "nbformat": 4,
 "nbformat_minor": 4
}
